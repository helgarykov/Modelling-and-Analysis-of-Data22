{
 "cells": [
  {
   "cell_type": "code",
   "execution_count": 6,
   "metadata": {},
   "outputs": [],
   "source": [
    "import numpy as np\n",
    "import matplotlib.pyplot as plt\n",
    "from housing_1 import X_train, t_train, X_test, t_test\n",
    "import linreg \n"
   ]
  },
  {
   "cell_type": "code",
   "execution_count": 7,
   "metadata": {},
   "outputs": [],
   "source": [
    "class WeightedLinearRegression():\n",
    "    \"\"\"\n",
    "    Non-Linear regression implementation.\n",
    "    \"\"\"\n",
    "\n",
    "    def __init__(self):\n",
    "        \n",
    "        pass\n",
    "            \n",
    "    def fit(self, X, t):\n",
    "        \"\"\"\n",
    "        Fits the non-linear regression model.\n",
    "\n",
    "        Parameters\n",
    "        ----------\n",
    "        X : Data matrix array of shape [n_features, 1]\n",
    "        t : Target vector array of shape [n_features, 1]\n",
    "        \"\"\"       \n",
    "        # reshape both arrays to make sure that we deal with \n",
    "        # N-dimensional Numpy arrays\n",
    "        X=np.array(X).reshape((len(X), -1))\n",
    "        t= np.array(t).reshape((len(t), 1)) \n",
    "\n",
    "        # prepend a column of ones\n",
    "        ones = np.ones((X.shape[0], 1))\n",
    "        X = np.concatenate((ones, X), axis=1)      \n",
    "\n",
    "        # generate weight-points for the weighted average loss\n",
    "        weight = (t**2)\n",
    "        # create a diagonal matrix that contains weights on the diagonal\n",
    "        A =np.diagflat(weight)\n",
    "    \n",
    "        \n",
    "        # compute optimal coefficients for the weighted average loss model\n",
    "        self.w = np.linalg.solve(np.dot(X.T, np.dot(A, X)),np.dot(X.T, np.dot(A, t)))\n",
    "        return self\n",
    "\n",
    "    def predict(self, X):\n",
    "        \"\"\"\n",
    "        Computes predictions for a new set of points.\n",
    "\n",
    "        Parameters\n",
    "        ----------\n",
    "        X : Array of shape [n_samples, n_features]\n",
    "\n",
    "        Returns\n",
    "        -------\n",
    "        predictions : Array of shape [n_samples, 1]\n",
    "        \"\"\"                     \n",
    "        X=np.array(X).reshape((len(X), -1))\n",
    "       \n",
    "        # prepend a column of ones\n",
    "        ones = np.ones((X.shape[0], 1))\n",
    "        X = np.concatenate((ones, X), axis=1)  \n",
    "\n",
    "        predicted_feature = np.dot(X,self.w)\n",
    "        return predicted_feature "
   ]
  },
  {
   "cell_type": "code",
   "execution_count": 8,
   "metadata": {},
   "outputs": [
    {
     "data": {
      "image/png": "[encoded data removed]",
      "text/plain": [
       "<Figure size 432x288 with 1 Axes>"
      ]
     },
     "metadata": {
      "needs_background": "light"
     },
     "output_type": "display_data"
    }
   ],
   "source": [
    "# (Assignment 1) fit linear regression model using all features\n",
    "model_all = linreg.LinearRegression()\n",
    "model_all.fit(X_train[:,: -1], t_train)\n",
    "\n",
    "model_predicton_all = model_all.predict(X_train[:,:-1])\n",
    "plt.scatter (t_train, model_predicton_all)\n",
    "plt.show()"
   ]
  },
  {
   "cell_type": "code",
   "execution_count": 9,
   "metadata": {},
   "outputs": [
    {
     "name": "stdout",
     "output_type": "stream",
     "text": [
      "Weighted model coefficients (all features):\n",
      " [[-5.49242671e-01]\n",
      " [ 1.22800124e-01]\n",
      " [ 1.40112214e-02]\n",
      " [-4.72674829e-02]\n",
      " [ 5.18852684e+00]\n",
      " [-2.21200297e+01]\n",
      " [ 8.25235071e+00]\n",
      " [-2.92014525e-02]\n",
      " [-1.67834747e+00]\n",
      " [ 4.76917254e-01]\n",
      " [-1.08859287e-02]\n",
      " [-8.45305597e-01]\n",
      " [ 2.68081116e-02]]\n"
     ]
    }
   ],
   "source": [
    "# (1b) fit weighted linear regression model using all features\n",
    "model_all = WeightedLinearRegression()\n",
    "model_all.fit(X_train[:,: -1], t_train)\n",
    "\n",
    "#optimal coefficients for the model based on all features\n",
    "print(\"Weighted model coefficients (all features):\\n\", model_all.w)  \n"
   ]
  },
  {
   "cell_type": "code",
   "execution_count": 10,
   "metadata": {},
   "outputs": [
    {
     "data": {
      "image/png": "[encoded data removed]",
      "text/plain": [
       "<Figure size 432x288 with 1 Axes>"
      ]
     },
     "metadata": {
      "needs_background": "light"
     },
     "output_type": "display_data"
    }
   ],
   "source": [
    "# (1b) evaluation of results\n",
    "model_predict_all = model_all.predict(X_test[:,:-1])\n",
    "plt.scatter (t_test, model_predict_all)\n",
    "plt.show()"
   ]
  }
 ],
 "metadata": {
  "kernelspec": {
   "display_name": "Python 3.9.12 ('base')",
   "language": "python",
   "name": "python3"
  },
  "language_info": {
   "codemirror_mode": {
    "name": "ipython",
    "version": 3
   },
   "file_extension": ".py",
   "mimetype": "text/x-python",
   "name": "python",
   "nbconvert_exporter": "python",
   "pygments_lexer": "ipython3",
   "version": "3.9.12 (main, Apr  5 2022, 01:53:17) \n[Clang 12.0.0 ]"
  },
  "orig_nbformat": 4,
  "vscode": {
   "interpreter": {
    "hash": "40d3a090f54c6569ab1632332b64b2c03c39dcf918b08424e98f38b5ae0af88f"
   }
  }
 },
 "nbformat": 4,
 "nbformat_minor": 2
}
