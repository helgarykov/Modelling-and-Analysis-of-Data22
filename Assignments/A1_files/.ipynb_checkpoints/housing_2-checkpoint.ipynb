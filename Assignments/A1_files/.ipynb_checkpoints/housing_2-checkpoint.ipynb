{
 "cells": [
  {
   "cell_type": "code",
   "execution_count": 130,
   "metadata": {},
   "outputs": [],
   "source": [
    "from gettext import npgettext\n",
    "import numpy\n",
    "import pandas\n",
    "import linreg\n",
    "import matplotlib.pyplot as plt\n",
    "import housing_1 as h1"
   ]
  },
  {
   "cell_type": "code",
   "execution_count": 131,
   "metadata": {},
   "outputs": [],
   "source": [
    "\n",
    "# load data\n",
    "train_data = numpy.loadtxt(\"boston_train.csv\", delimiter=\",\")\n",
    "test_data = numpy.loadtxt(\"boston_test.csv\", delimiter=\",\")\n",
    "X_train, t_train = train_data[:,:-1], train_data[:,-1]\n",
    "X_test, t_test = test_data[:,:-1], test_data[:,-1]"
   ]
  },
  {
   "cell_type": "code",
   "execution_count": 132,
   "metadata": {},
   "outputs": [
    {
     "name": "stdout",
     "output_type": "stream",
     "text": [
      "Number of training instances: 253\n",
      "Number of test instances: 253\n",
      "Number of features: 13\n",
      "(253, 13)\n"
     ]
    }
   ],
   "source": [
    "# make sure that we have N-dimensional Numpy arrays (ndarray)\n",
    "t_train = t_train.reshape((len(t_train), 1))\n",
    "t_test = t_test.reshape((len(t_test), 1))\n",
    "print(\"Number of training instances: %i\" % X_train.shape[0])\n",
    "print(\"Number of test instances: %i\" % X_test.shape[0])\n",
    "print(\"Number of features: %i\" % X_train.shape[1])\n",
    "print(X_train.shape)\n",
    "\n"
   ]
  },
  {
   "cell_type": "code",
   "execution_count": 133,
   "metadata": {},
   "outputs": [
    {
     "name": "stdout",
     "output_type": "stream",
     "text": [
      "b [[23.63506195]\n",
      " [-0.43279318]]\n",
      "Model coefficients: [[23.63506195]\n",
      " [-0.43279318]]\n"
     ]
    }
   ],
   "source": [
    "\n",
    "# (b) fit linear regression using only the first feature\n",
    "model_single = linreg.LinearRegression()\n",
    "model_single.fit(X_train[:,0], t_train)\n",
    "\n",
    "print(\"b\", model_single.w)\n",
    "print(\"Model coefficients:\", model_single.w)"
   ]
  },
  {
   "cell_type": "code",
   "execution_count": 134,
   "metadata": {},
   "outputs": [
    {
     "name": "stdout",
     "output_type": "stream",
     "text": [
      "c [[ 3.13886978e+01]\n",
      " [-5.96169127e-02]\n",
      " [ 2.93672792e-02]\n",
      " [-2.90605834e-02]\n",
      " [ 2.29256181e+00]\n",
      " [-1.73263655e+01]\n",
      " [ 3.99375996e+00]\n",
      " [ 3.23077761e-03]\n",
      " [-1.28724508e+00]\n",
      " [ 3.54780191e-01]\n",
      " [-1.55819191e-02]\n",
      " [-8.14647713e-01]\n",
      " [ 1.17820208e-02]\n",
      " [-4.64869014e-01]]\n"
     ]
    }
   ],
   "source": [
    "# (c) fit linear regression model using all features\n",
    "\n",
    "# Giorna: c) to get the correct w vector, use \n",
    "# ALL the data in the X_train matrix -- you are excluding the last feature\n",
    "\n",
    "model_all = linreg.LinearRegression()\n",
    "#model_all.fit(X_train[:,: -1], t_train) // in the original submit\n",
    "model_all.fit(X_train[:,:], t_train)\n",
    "print(\"c\", model_all.w)"
   ]
  },
  {
   "cell_type": "code",
   "execution_count": 135,
   "metadata": {},
   "outputs": [
    {
     "data": {
      "image/png": "[encoded data removed]",
      "text/plain": [
       "<Figure size 432x288 with 1 Axes>"
      ]
     },
     "metadata": {
      "needs_background": "light"
     },
     "output_type": "display_data"
    },
    {
     "data": {
      "image/png": "[encoded data removed]",
      "text/plain": [
       "<Figure size 432x288 with 1 Axes>"
      ]
     },
     "metadata": {
      "needs_background": "light"
     },
     "output_type": "display_data"
    }
   ],
   "source": [
    "# (d) evaluation of results\n",
    "\n",
    "# Giorna:d) the prediction function looks fine, \n",
    "# but you should calculate your RMSE between test data and prediction \n",
    "\n",
    "model_prediction_single = model_single.predict(X_train[:,0])\n",
    "model_predicton_all = model_all.predict(X_train[:,:])\n",
    "\n",
    "#plt.scatter(t_test,model_prediction_single)\n",
    "plt.scatter(t_train,model_prediction_single) \n",
    "plt.show()\n",
    "#plt.scatter (t_test, model_predicton_all)\n",
    "plt.scatter (t_train, model_predicton_all) \n",
    "plt.show()"
   ]
  },
  {
   "cell_type": "code",
   "execution_count": 136,
   "metadata": {},
   "outputs": [
    {
     "name": "stdout",
     "output_type": "stream",
     "text": [
      "The optimal loss number: 10.309\n"
     ]
    }
   ],
   "source": [
    "#print(\"The optimal loss number: %.3f\" % h1.rmse(t_train, model_prediction_single)) // original submit\n",
    "print(\"The optimal loss number: %.3f\" % h1.rmse(t_test, model_prediction_single))"
   ]
  },
  {
   "cell_type": "markdown",
   "metadata": {},
   "source": []
  }
 ],
 "metadata": {
  "kernelspec": {
   "display_name": "Python 3 (ipykernel)",
   "language": "python",
   "name": "python3"
  },
  "language_info": {
   "codemirror_mode": {
    "name": "ipython",
    "version": 3
   },
   "file_extension": ".py",
   "mimetype": "text/x-python",
   "name": "python",
   "nbconvert_exporter": "python",
   "pygments_lexer": "ipython3",
   "version": "3.9.12"
  },
  "vscode": {
   "interpreter": {
    "hash": "40d3a090f54c6569ab1632332b64b2c03c39dcf918b08424e98f38b5ae0af88f"
   }
  }
 },
 "nbformat": 4,
 "nbformat_minor": 2
}
