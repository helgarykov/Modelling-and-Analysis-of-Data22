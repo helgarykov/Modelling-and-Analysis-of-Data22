{
 "cells": [
  {
   "cell_type": "code",
   "execution_count": 167,
   "metadata": {},
   "outputs": [],
   "source": [
    "import pandas as pd # for data file reading\n",
    "import numpy as np\n",
    "from sklearn.model_selection import train_test_split\n",
    "import matplotlib.pyplot as plt\n",
    "from sklearn.preprocessing import PolynomialFeatures\n"
   ]
  },
  {
   "cell_type": "code",
   "execution_count": 168,
   "metadata": {},
   "outputs": [
    {
     "name": "stdout",
     "output_type": "stream",
     "text": [
      "X [1984. 1988. 1908. 1904. 1992. 1920. 1980. 1956. 1924. 2000. 1900. 1968.\n",
      " 1896. 1964. 2008. 2004. 1932. 1928. 1952. 1948. 1912.]\n",
      "y [ 9.99  9.92 10.8  11.    9.96 10.8  10.25 10.5  10.6   9.87 11.    9.95\n",
      " 12.   10.    9.69  9.85 10.3  10.8  10.4  10.3  10.8 ]\n"
     ]
    }
   ],
   "source": [
    "# teams = pd.read_cvs(\"men-olympics.txt\")\n",
    "# Load the data\n",
    "#years = np.loadtxt(\"men-olympics-100.txt\")\n",
    "\n",
    "# Read the data into a numpy array\n",
    "raw = np.genfromtxt(\"men-olympics-100.txt\", delimiter=\"\")\n",
    "\n",
    "train, test = train_test_split(raw, test_size=.2, random_state=1)\n",
    "# Set the predictions\n",
    "\n",
    "#predictor = raw[:,0] # here olympic years (get all elements in 1.row arr[0,:]; all elements in the 1. col: arr[:,0]\n",
    "#target = raw[:,1]    #\"winning_times\"\n",
    "\n",
    "# Split the data into the train (80%) and test (20%) sets\n",
    "\n",
    "\n",
    "# Matrix X as a train data (predictor) and matrix y as a target matrix (target)\n",
    "X = train[:,0]      # elements of the 0. column (years)\n",
    "y= train[:,1]       # elements of the 1. column (winning times)\n",
    "print(\"X\", X)\n",
    "print(\"y\", y)"
   ]
  },
  {
   "cell_type": "code",
   "execution_count": 169,
   "metadata": {},
   "outputs": [
    {
     "name": "stdout",
     "output_type": "stream",
     "text": [
      "X_mean 1950 and X_std 36\n"
     ]
    }
   ],
   "source": [
    "# Calculate x_mean and standard deviaiton for the predictor columns (here one column - years)\n",
    "X_mean = X.mean()\n",
    "X_std = X.std()         #It is important to note that the standard deviation calculated by numpy is the population standard deviation, if you would like to calculate the sample standard deviation, you can set the ddof argument to 1 for np.std() or use X.std(ddof=1)\n",
    "print(\"X_mean %d and X_std %d\" % (X_mean, X_std))"
   ]
  },
  {
   "cell_type": "code",
   "execution_count": 170,
   "metadata": {},
   "outputs": [
    {
     "name": "stdout",
     "output_type": "stream",
     "text": [
      "[ 0.91228354  1.02238673 -1.17967699 -1.28978018  1.13248991 -0.84936743\n",
      "  0.80218035  0.14156124 -0.73926425  1.35269628 -1.39988336  0.4718708\n",
      " -1.50998655  0.36176761  1.57290265  1.46279947 -0.51905788 -0.62916106\n",
      "  0.03145805 -0.07864513 -1.06957381]\n"
     ]
    }
   ],
   "source": [
    "# Standardize the data in the 0.col (years)\n",
    "X = (X -X_mean) / X_std\n",
    "print(X)\n",
    "# for element in X.tolist():\n",
    "#    print(element)\n"
   ]
  },
  {
   "cell_type": "markdown",
   "metadata": {},
   "source": []
  },
  {
   "cell_type": "code",
   "execution_count": 171,
   "metadata": {},
   "outputs": [
    {
     "name": "stdout",
     "output_type": "stream",
     "text": [
      "[[ 1.          0.91228354]\n",
      " [ 1.          1.02238673]\n",
      " [ 1.         -1.17967699]\n",
      " [ 1.         -1.28978018]\n",
      " [ 1.          1.13248991]\n",
      " [ 1.         -0.84936743]\n",
      " [ 1.          0.80218035]\n",
      " [ 1.          0.14156124]\n",
      " [ 1.         -0.73926425]\n",
      " [ 1.          1.35269628]\n",
      " [ 1.         -1.39988336]\n",
      " [ 1.          0.4718708 ]\n",
      " [ 1.         -1.50998655]\n",
      " [ 1.          0.36176761]\n",
      " [ 1.          1.57290265]\n",
      " [ 1.          1.46279947]\n",
      " [ 1.         -0.51905788]\n",
      " [ 1.         -0.62916106]\n",
      " [ 1.          0.03145805]\n",
      " [ 1.         -0.07864513]\n",
      " [ 1.         -1.06957381]]\n"
     ]
    }
   ],
   "source": [
    "# Add the intercept to X (append ones)\n",
    "X = np.array(X).reshape((len(X), -1))\n",
    "ones = np.ones((X.shape[0], 1))                                         # X = X.reshape(-1, 1) - reshape a 1D array X to a 2D-array (the array X to have 1 column and as many rows as needed to fit all the elements.)\n",
    "X = np.append(ones, X, axis=1)    #we want to append the values along the first axis (rows), so we set axis=1. This should reshape your 1D array to have 2 dimensions and concatenate the ones array to the left of the X array\n",
    "print(X)    #print(X.shape[0] - number of rows, print(X.shape[1] - nr of columns\n"
   ]
  },
  {
   "cell_type": "code",
   "execution_count": 172,
   "metadata": {},
   "outputs": [],
   "source": [
    "# Define the polynomial transformation\n",
    "poly = PolynomialFeatures(degree=4)\n",
    "X = poly.fit_transform(X)"
   ]
  },
  {
   "cell_type": "code",
   "execution_count": 173,
   "metadata": {},
   "outputs": [
    {
     "name": "stdout",
     "output_type": "stream",
     "text": [
      "[1.0, 1.0, 1.0, 1.0, 1.0, 1.0, 1.0, 1.0, 1.0, 1.0, 1.0, 1.0, 1.0, 1.0, 1.0, 1.0, 1.0, 1.0, 1.0, 1.0, 1.0]\n",
      "[1.0, 1.0, 1.0, 1.0, 1.0, 1.0, 1.0, 1.0, 1.0, 1.0, 1.0, 1.0, 1.0, 1.0, 1.0, 1.0, 1.0, 1.0, 1.0, 1.0, 1.0]\n",
      "[0.9122835396978074, 1.022386725523405, -1.179676990988546, -1.2897801768141437, 1.1324899113490026, -0.8493674335117534, 0.8021803538722099, 0.14156123891862452, -0.7392642476861558, 1.3526962830001976, -1.3998833626397411, 0.4718707963954172, -1.5099865484653388, 0.3617676105698196, 1.5729026546513927, 1.462799468825795, -0.5190578760349608, -0.6291610618605583, 0.031458053093026975, -0.07864513273257057, -1.0695738051629484]\n",
      "[1.0, 1.0, 1.0, 1.0, 1.0, 1.0, 1.0, 1.0, 1.0, 1.0, 1.0, 1.0, 1.0, 1.0, 1.0, 1.0, 1.0, 1.0, 1.0, 1.0, 1.0]\n",
      "[0.9122835396978074, 1.022386725523405, -1.179676990988546, -1.2897801768141437, 1.1324899113490026, -0.8493674335117534, 0.8021803538722099, 0.14156123891862452, -0.7392642476861558, 1.3526962830001976, -1.3998833626397411, 0.4718707963954172, -1.5099865484653388, 0.3617676105698196, 1.5729026546513927, 1.462799468825795, -0.5190578760349608, -0.6291610618605583, 0.031458053093026975, -0.07864513273257057, -1.0695738051629484]\n",
      "[0.8322612568035609, 1.0452746165264701, 1.3916378030677903, 1.6635329045027238, 1.2825333993072716, 0.7214250371103428, 0.6434933201385439, 0.020039584364175893, 0.5465116279069779, 1.8297872340425507, 1.9596734289955489, 0.22266204849084525, 2.2800593765462667, 0.13087580405739666, 2.4740227610093983, 2.139782285997028, 0.26942107867392473, 0.39584364176150527, 0.000989609104403704, 0.006185056902523642, 1.1439881246907488]\n",
      "[1.0, 1.0, 1.0, 1.0, 1.0, 1.0, 1.0, 1.0, 1.0, 1.0, 1.0, 1.0, 1.0, 1.0, 1.0, 1.0, 1.0, 1.0, 1.0, 1.0, 1.0]\n",
      "[0.9122835396978074, 1.022386725523405, -1.179676990988546, -1.2897801768141437, 1.1324899113490026, -0.8493674335117534, 0.8021803538722099, 0.14156123891862452, -0.7392642476861558, 1.3526962830001976, -1.3998833626397411, 0.4718707963954172, -1.5099865484653388, 0.3617676105698196, 1.5729026546513927, 1.462799468825795, -0.5190578760349608, -0.6291610618605583, 0.031458053093026975, -0.07864513273257057, -1.0695738051629484]\n",
      "[0.8322612568035609, 1.0452746165264701, 1.3916378030677903, 1.6635329045027238, 1.2825333993072716, 0.7214250371103428, 0.6434933201385439, 0.020039584364175893, 0.5465116279069779, 1.8297872340425507, 1.9596734289955489, 0.22266204849084525, 2.2800593765462667, 0.13087580405739666, 2.4740227610093983, 2.139782285997028, 0.26942107867392473, 0.39584364176150527, 0.000989609104403704, 0.006185056902523642, 1.1439881246907488]\n",
      "[0.7592582453100984, 1.0686748924632306, -1.6416830960689217, -2.1455917637056694, 1.452456135683627, -0.6127549322415333, 0.5161976992631404, 0.002836828390007036, -0.4040165074563884, 2.475146390170571, -2.743314229458041, 0.10506771814841015, -3.442858988287129, 0.04734662691524829, 3.8913969684596506, 3.130072391359298, -0.13984513285553543, -0.24904940598141911, 3.1131175747674596e-05, -0.00048642462105747363, -1.2235797315867099]\n",
      "[1.0, 1.0, 1.0, 1.0, 1.0, 1.0, 1.0, 1.0, 1.0, 1.0, 1.0, 1.0, 1.0, 1.0, 1.0, 1.0, 1.0, 1.0, 1.0, 1.0, 1.0]\n",
      "[0.9122835396978074, 1.022386725523405, -1.179676990988546, -1.2897801768141437, 1.1324899113490026, -0.8493674335117534, 0.8021803538722099, 0.14156123891862452, -0.7392642476861558, 1.3526962830001976, -1.3998833626397411, 0.4718707963954172, -1.5099865484653388, 0.3617676105698196, 1.5729026546513927, 1.462799468825795, -0.5190578760349608, -0.6291610618605583, 0.031458053093026975, -0.07864513273257057, -1.0695738051629484]\n",
      "[0.8322612568035609, 1.0452746165264701, 1.3916378030677903, 1.6635329045027238, 1.2825333993072716, 0.7214250371103428, 0.6434933201385439, 0.020039584364175893, 0.5465116279069779, 1.8297872340425507, 1.9596734289955489, 0.22266204849084525, 2.2800593765462667, 0.13087580405739666, 2.4740227610093983, 2.139782285997028, 0.26942107867392473, 0.39584364176150527, 0.000989609104403704, 0.006185056902523642, 1.1439881246907488]\n",
      "[0.7592582453100984, 1.0686748924632306, -1.6416830960689217, -2.1455917637056694, 1.452456135683627, -0.6127549322415333, 0.5161976992631404, 0.002836828390007036, -0.4040165074563884, 2.475146390170571, -2.743314229458041, 0.10506771814841015, -3.442858988287129, 0.04734662691524829, 3.8913969684596506, 3.130072391359298, -0.13984513285553543, -0.24904940598141911, 3.1131175747674596e-05, -0.00048642462105747363, -1.2235797315867099]\n",
      "[0.6926587995762428, 1.092599023954559, 1.9366557749273456, 2.7673417243632685, 1.6448919203386656, 0.5204540841696595, 0.41408365306292655, 0.0004015849414889229, 0.29867495943753514, 3.3481213218650883, 3.8403199483111727, 0.049578387838139525, 5.19867076057655, 0.017128476087670083, 6.120788621992566, 4.578668231466668, 0.07258771763382113, 0.15669218872301094, 9.793261795187013e-07, 3.8254928887455354e-05, 1.3087088294334563]\n"
     ]
    }
   ],
   "source": [
    "# Print X transpose\n",
    "\n",
    "for element in X.T.tolist():\n",
    "    print(element)"
   ]
  },
  {
   "cell_type": "code",
   "execution_count": 174,
   "metadata": {},
   "outputs": [
    {
     "name": "stdout",
     "output_type": "stream",
     "text": [
      "[1.00000000e-08 1.20450354e-08 1.45082878e-08 1.74752840e-08\n",
      " 2.10490414e-08 2.53536449e-08 3.05385551e-08 3.67837977e-08\n",
      " 4.43062146e-08 5.33669923e-08 6.42807312e-08 7.74263683e-08\n",
      " 9.32603347e-08 1.12332403e-07 1.35304777e-07 1.62975083e-07\n",
      " 1.96304065e-07 2.36448941e-07 2.84803587e-07 3.43046929e-07\n",
      " 4.13201240e-07 4.97702356e-07 5.99484250e-07 7.22080902e-07\n",
      " 8.69749003e-07 1.04761575e-06 1.26185688e-06 1.51991108e-06\n",
      " 1.83073828e-06 2.20513074e-06 2.65608778e-06 3.19926714e-06\n",
      " 3.85352859e-06 4.64158883e-06 5.59081018e-06 6.73415066e-06\n",
      " 8.11130831e-06 9.77009957e-06 1.17681195e-05 1.41747416e-05\n",
      " 1.70735265e-05 2.05651231e-05 2.47707636e-05 2.98364724e-05\n",
      " 3.59381366e-05 4.32876128e-05 5.21400829e-05 6.28029144e-05\n",
      " 7.56463328e-05 9.11162756e-05 1.09749877e-04 1.32194115e-04\n",
      " 1.59228279e-04 1.91791026e-04 2.31012970e-04 2.78255940e-04\n",
      " 3.35160265e-04 4.03701726e-04 4.86260158e-04 5.85702082e-04\n",
      " 7.05480231e-04 8.49753436e-04 1.02353102e-03 1.23284674e-03\n",
      " 1.48496826e-03 1.78864953e-03 2.15443469e-03 2.59502421e-03\n",
      " 3.12571585e-03 3.76493581e-03 4.53487851e-03 5.46227722e-03\n",
      " 6.57933225e-03 7.92482898e-03 9.54548457e-03 1.14975700e-02\n",
      " 1.38488637e-02 1.66810054e-02 2.00923300e-02 2.42012826e-02\n",
      " 2.91505306e-02 3.51119173e-02 4.22924287e-02 5.09413801e-02\n",
      " 6.13590727e-02 7.39072203e-02 8.90215085e-02 1.07226722e-01\n",
      " 1.29154967e-01 1.55567614e-01 1.87381742e-01 2.25701972e-01\n",
      " 2.71858824e-01 3.27454916e-01 3.94420606e-01 4.75081016e-01\n",
      " 5.72236766e-01 6.89261210e-01 8.30217568e-01 1.00000000e+00]\n"
     ]
    }
   ],
   "source": [
    "# Generate an array of \"alpha\" values which is our lamda vals\n",
    "alpha_vals = np.logspace(-8, 0, 100, base=10)   # start -8, end 0, 100 vals\n",
    "print(alpha_vals)"
   ]
  },
  {
   "cell_type": "code",
   "execution_count": 175,
   "metadata": {},
   "outputs": [
    {
     "name": "stdout",
     "output_type": "stream",
     "text": [
      "[[0. 0. 0. 0. 0. 0. 0. 0. 0. 0. 0. 0. 0. 0. 0.]\n",
      " [0. 1. 0. 0. 0. 0. 0. 0. 0. 0. 0. 0. 0. 0. 0.]\n",
      " [0. 0. 1. 0. 0. 0. 0. 0. 0. 0. 0. 0. 0. 0. 0.]\n",
      " [0. 0. 0. 1. 0. 0. 0. 0. 0. 0. 0. 0. 0. 0. 0.]\n",
      " [0. 0. 0. 0. 1. 0. 0. 0. 0. 0. 0. 0. 0. 0. 0.]\n",
      " [0. 0. 0. 0. 0. 1. 0. 0. 0. 0. 0. 0. 0. 0. 0.]\n",
      " [0. 0. 0. 0. 0. 0. 1. 0. 0. 0. 0. 0. 0. 0. 0.]\n",
      " [0. 0. 0. 0. 0. 0. 0. 1. 0. 0. 0. 0. 0. 0. 0.]\n",
      " [0. 0. 0. 0. 0. 0. 0. 0. 1. 0. 0. 0. 0. 0. 0.]\n",
      " [0. 0. 0. 0. 0. 0. 0. 0. 0. 1. 0. 0. 0. 0. 0.]\n",
      " [0. 0. 0. 0. 0. 0. 0. 0. 0. 0. 1. 0. 0. 0. 0.]\n",
      " [0. 0. 0. 0. 0. 0. 0. 0. 0. 0. 0. 1. 0. 0. 0.]\n",
      " [0. 0. 0. 0. 0. 0. 0. 0. 0. 0. 0. 0. 1. 0. 0.]\n",
      " [0. 0. 0. 0. 0. 0. 0. 0. 0. 0. 0. 0. 0. 1. 0.]\n",
      " [0. 0. 0. 0. 0. 0. 0. 0. 0. 0. 0. 0. 0. 0. 1.]]\n"
     ]
    }
   ],
   "source": [
    "# Create an Identity matrix for X and set the top left element to 0\n",
    "\n",
    "I = np.identity(X.shape[1])\n",
    "I[0][0] = 0\n",
    "print(I)\n",
    " "
   ]
  },
  {
   "cell_type": "code",
   "execution_count": 176,
   "metadata": {},
   "outputs": [
    {
     "name": "stdout",
     "output_type": "stream",
     "text": [
      "[[0.e+00 0.e+00 0.e+00 0.e+00 0.e+00 0.e+00 0.e+00 0.e+00 0.e+00 0.e+00\n",
      "  0.e+00 0.e+00 0.e+00 0.e+00 0.e+00]\n",
      " [0.e+00 1.e-08 0.e+00 0.e+00 0.e+00 0.e+00 0.e+00 0.e+00 0.e+00 0.e+00\n",
      "  0.e+00 0.e+00 0.e+00 0.e+00 0.e+00]\n",
      " [0.e+00 0.e+00 1.e-08 0.e+00 0.e+00 0.e+00 0.e+00 0.e+00 0.e+00 0.e+00\n",
      "  0.e+00 0.e+00 0.e+00 0.e+00 0.e+00]\n",
      " [0.e+00 0.e+00 0.e+00 1.e-08 0.e+00 0.e+00 0.e+00 0.e+00 0.e+00 0.e+00\n",
      "  0.e+00 0.e+00 0.e+00 0.e+00 0.e+00]\n",
      " [0.e+00 0.e+00 0.e+00 0.e+00 1.e-08 0.e+00 0.e+00 0.e+00 0.e+00 0.e+00\n",
      "  0.e+00 0.e+00 0.e+00 0.e+00 0.e+00]\n",
      " [0.e+00 0.e+00 0.e+00 0.e+00 0.e+00 1.e-08 0.e+00 0.e+00 0.e+00 0.e+00\n",
      "  0.e+00 0.e+00 0.e+00 0.e+00 0.e+00]\n",
      " [0.e+00 0.e+00 0.e+00 0.e+00 0.e+00 0.e+00 1.e-08 0.e+00 0.e+00 0.e+00\n",
      "  0.e+00 0.e+00 0.e+00 0.e+00 0.e+00]\n",
      " [0.e+00 0.e+00 0.e+00 0.e+00 0.e+00 0.e+00 0.e+00 1.e-08 0.e+00 0.e+00\n",
      "  0.e+00 0.e+00 0.e+00 0.e+00 0.e+00]\n",
      " [0.e+00 0.e+00 0.e+00 0.e+00 0.e+00 0.e+00 0.e+00 0.e+00 1.e-08 0.e+00\n",
      "  0.e+00 0.e+00 0.e+00 0.e+00 0.e+00]\n",
      " [0.e+00 0.e+00 0.e+00 0.e+00 0.e+00 0.e+00 0.e+00 0.e+00 0.e+00 1.e-08\n",
      "  0.e+00 0.e+00 0.e+00 0.e+00 0.e+00]\n",
      " [0.e+00 0.e+00 0.e+00 0.e+00 0.e+00 0.e+00 0.e+00 0.e+00 0.e+00 0.e+00\n",
      "  1.e-08 0.e+00 0.e+00 0.e+00 0.e+00]\n",
      " [0.e+00 0.e+00 0.e+00 0.e+00 0.e+00 0.e+00 0.e+00 0.e+00 0.e+00 0.e+00\n",
      "  0.e+00 1.e-08 0.e+00 0.e+00 0.e+00]\n",
      " [0.e+00 0.e+00 0.e+00 0.e+00 0.e+00 0.e+00 0.e+00 0.e+00 0.e+00 0.e+00\n",
      "  0.e+00 0.e+00 1.e-08 0.e+00 0.e+00]\n",
      " [0.e+00 0.e+00 0.e+00 0.e+00 0.e+00 0.e+00 0.e+00 0.e+00 0.e+00 0.e+00\n",
      "  0.e+00 0.e+00 0.e+00 1.e-08 0.e+00]\n",
      " [0.e+00 0.e+00 0.e+00 0.e+00 0.e+00 0.e+00 0.e+00 0.e+00 0.e+00 0.e+00\n",
      "  0.e+00 0.e+00 0.e+00 0.e+00 1.e-08]]\n"
     ]
    }
   ],
   "source": [
    "# Calculate the penalty matrix \n",
    "penalty = alpha_vals[0] * I # alpha = 1\n",
    "print(penalty)"
   ]
  },
  {
   "cell_type": "code",
   "execution_count": 177,
   "metadata": {},
   "outputs": [
    {
     "name": "stdout",
     "output_type": "stream",
     "text": [
      "[ 5.11438792e+02  3.31569762e+03 -1.40395844e+02 -3.81678755e+03\n",
      "  1.51691249e+02 -2.68429760e+00  1.71556152e-06 -1.14707371e+01\n",
      "  2.60193044e+00 -8.06800549e-02  0.00000000e+00 -5.84436742e-02\n",
      " -4.11829069e-02 -8.06800545e-02  1.22854298e-01]\n"
     ]
    }
   ],
   "source": [
    "# Calculate the coefficients w_hat\n",
    "w_hat = np.linalg.inv(X.T @ X + penalty) @ X.T @ y\n",
    "print(w_hat)    # [\"intercept-w\", \"years-w\"]"
   ]
  },
  {
   "cell_type": "code",
   "execution_count": 178,
   "metadata": {},
   "outputs": [
    {
     "name": "stdout",
     "output_type": "stream",
     "text": [
      "[[ 1.          1.          0.58197398  1.          0.58197398  0.33869372\n",
      "   1.          0.58197398  0.33869372  0.19711093  1.          0.58197398\n",
      "   0.33869372  0.19711093  0.11471343]\n",
      " [ 1.          1.          0.25166442  1.          0.25166442  0.06333498\n",
      "   1.          0.25166442  0.06333498  0.01593916  1.          0.25166442\n",
      "   0.06333498  0.01593916  0.00401132]\n",
      " [ 1.          1.          0.69207717  1.          0.69207717  0.47897081\n",
      "   1.          0.69207717  0.47897081  0.33148476  1.          0.69207717\n",
      "   0.47897081  0.33148476  0.22941303]\n",
      " [ 1.          1.         -1.23472858  1.         -1.23472858  1.52455468\n",
      "   1.         -1.23472858  1.52455468 -1.88241124  1.         -1.23472858\n",
      "   1.52455468 -1.88241124  2.32426696]\n",
      " [ 1.          1.          1.2425931   1.          1.2425931   1.54403761\n",
      "   1.          1.2425931   1.54403761  1.91861047  1.          1.2425931\n",
      "   1.54403761  1.91861047  2.38405213]\n",
      " [ 1.          1.         -0.40895469  1.         -0.40895469  0.16724394\n",
      "   1.         -0.40895469  0.16724394 -0.06839519  1.         -0.40895469\n",
      "   0.16724394 -0.06839519  0.02797054]]\n"
     ]
    }
   ],
   "source": [
    "# To make predictions, we need to do the same with the test set (\"winning_times\")\n",
    "test_X = test[:,0] \n",
    "\n",
    "# Scale the set by using the mean & std of the training set\n",
    "test_X = (test_X - X_mean) / X_std\n",
    "\n",
    "test_X = np.array(test_X).reshape((len(test_X), -1))\n",
    "ones = np.ones((test_X.shape[0], 1))                                         # X = X.reshape(-1, 1) - reshape a 1D array X to a 2D-array (the array X to have 1 column and as many rows as needed to fit all the elements.)\n",
    "test_X = np.append(ones, test_X, axis=1)    #we want to append the values along the first axis (rows), so we set axis=1. This should reshape your 1D array to have 2 dimensions and concatenate the ones array to the left of the X array\n",
    "\n",
    "# Define the polynomial transformation\n",
    "poly = PolynomialFeatures(degree=4)\n",
    "test_X = poly.fit_transform(test_X)\n",
    "\n",
    "print(test_X) "
   ]
  },
  {
   "cell_type": "code",
   "execution_count": 179,
   "metadata": {},
   "outputs": [
    {
     "name": "stdout",
     "output_type": "stream",
     "text": [
      "[10.15325517 10.28012786 10.10259321 11.03844842  9.85091463 10.43827846]\n"
     ]
    }
   ],
   "source": [
    "# Calculate predictions for the winning times\n",
    "predictions = test_X @ w_hat\n",
    "print(predictions)"
   ]
  },
  {
   "cell_type": "code",
   "execution_count": 180,
   "metadata": {},
   "outputs": [],
   "source": [
    "# Find the optimal alpha by defining the ridge regression model\n",
    "\n",
    "def ridge_fit(train, predictor, target, alpha):\n",
    "    X = train[:,0]  # predictor  \n",
    "    y = train[:,1]  # target\n",
    "\n",
    "    X_mean = X.mean()\n",
    "    X_std = X.std()\n",
    "\n",
    "    X = (X -X_mean) / X_std\n",
    "    X = np.array(X).reshape((len(X), -1))\n",
    "    ones = np.ones((X.shape[0], 1))                                         # X = X.reshape(-1, 1) - reshape a 1D array X to a 2D-array (the array X to have 1 column and as many rows as needed to fit all the elements.)\n",
    "    X = np.append(ones, X, axis=1) \n",
    "\n",
    "    penalty = alpha * np.identity(X.shape[1])\n",
    "    penalty[0][0] = 0 \n",
    "\n",
    "    w_hat = np.linalg.inv(X.T @ X + penalty) @ X.T @ y\n",
    "\n",
    "    return w_hat, X_mean, X_std\n",
    "    "
   ]
  },
  {
   "cell_type": "code",
   "execution_count": 181,
   "metadata": {},
   "outputs": [],
   "source": [
    "# Do the same on the test set\n",
    "def ridge_predict(test, predictor, x_mean, x_std, w_hat):\n",
    "    test_X = test[:,0]\n",
    "    test_X = (test_X - X_mean) / X_std\n",
    "    \n",
    "    test_X = np.array(test_X).reshape((len(test_X), -1))\n",
    "    ones = np.ones((test_X.shape[0], 1))                                         # X = X.reshape(-1, 1) - reshape a 1D array X to a 2D-array (the array X to have 1 column and as many rows as needed to fit all the elements.)\n",
    "    test_X = np.append(ones, test_X, axis=1) \n",
    "\n",
    "    predictions = test_X @ w_hat\n",
    "    return predictions"
   ]
  },
  {
   "cell_type": "code",
   "execution_count": 182,
   "metadata": {},
   "outputs": [
    {
     "name": "stdout",
     "output_type": "stream",
     "text": [
      "Optimal alpha 0.11445\n"
     ]
    }
   ],
   "source": [
    "from sklearn.metrics import mean_absolute_error\n",
    "\n",
    "errors = []\n",
    "alphas = np.logspace(0, 1, 100, base=10) \n",
    "\n",
    "for alpha in alphas:\n",
    "    w_hat, X_mean, X_std = ridge_fit(train, X, y, alpha)\n",
    "    predictions = ridge_predict(test, X, X_mean, X_std, w_hat)\n",
    "    errors.append(mean_absolute_error(test[:,1], predictions))  # a corresponding error for each aplha value\n",
    "#print(errors)\n",
    "\n",
    "# We pick the alpha where error is the lowest\n",
    "# The higher the error, the more underfitted the regression model is\n",
    "optimal_alpha = np.min(errors)\n",
    "print(\"Optimal alpha {:.5f}\".format(optimal_alpha))\n",
    "\n"
   ]
  },
  {
   "cell_type": "code",
   "execution_count": 183,
   "metadata": {},
   "outputs": [
    {
     "name": "stdout",
     "output_type": "stream",
     "text": [
      "(array([10.41809524, -0.47969037]), 1950.857142857143, 36.32955731486248)\n",
      "[10.41809524 -0.47709023]\n"
     ]
    },
    {
     "data": {
      "text/plain": [
       "<function matplotlib.pyplot.show(close=None, block=None)>"
      ]
     },
     "execution_count": 183,
     "metadata": {},
     "output_type": "execute_result"
    },
    {
     "data": {
      "image/png": "[encoded data removed]",
      "text/plain": [
       "<Figure size 432x288 with 1 Axes>"
      ]
     },
     "metadata": {
      "needs_background": "light"
     },
     "output_type": "display_data"
    }
   ],
   "source": [
    "coefficients_alpha_0 = ridge_fit(train, X, y, 0)\n",
    "print(coefficients_alpha_0)\n",
    "\n",
    "result = ridge_fit(train, X, y, optimal_alpha)\n",
    "coefficients_optimal_alpha = result[0]\n",
    "print(coefficients_optimal_alpha)\n",
    "\n",
    "#optimal_alpha = np.array([optimal_alpha]).reshape(-1, 1) # convert optimal_alpha to an array of shape (1,)\n",
    "plt.plot(optimal_alpha, coefficients_optimal_alpha)\n",
    "plt.show"
   ]
  },
  {
   "cell_type": "code",
   "execution_count": 184,
   "metadata": {},
   "outputs": [
    {
     "data": {
      "image/png": "[encoded data removed]",
      "text/plain": [
       "<Figure size 432x288 with 1 Axes>"
      ]
     },
     "metadata": {
      "needs_background": "light"
     },
     "output_type": "display_data"
    }
   ],
   "source": [
    "# Plot the validation errors as a function of lambda\n",
    "plt.plot(alphas, errors)\n",
    "plt.xscale('log')\n",
    "plt.xlabel('Lambda')\n",
    "plt.ylabel('Validation Error')\n",
    "plt.show()\n"
   ]
  },
  {
   "cell_type": "code",
   "execution_count": 185,
   "metadata": {},
   "outputs": [],
   "source": [
    "# Compare our model with the sklearn implementation\n",
    "#from sklearn.linear_model import Ridge\n",
    "\n",
    "#ridge = Ridge(alpha=alpha_vals)\n",
    "#X = np.array(X).reshape((len(X), -1))\n",
    "#ridge.fit(X[:,0], y)\n",
    "#Ridge(alpha=alpha_vals)\n",
    "#ridge.coef_\n"
   ]
  },
  {
   "cell_type": "code",
   "execution_count": 186,
   "metadata": {},
   "outputs": [
    {
     "name": "stdout",
     "output_type": "stream",
     "text": [
      "Mean athlets 123\n",
      "Standard deviation athlets 53\n",
      "Mean events 64\n",
      "Standard deviation events 24\n",
      "Standardized data, matrix X not prepended with ones:\n",
      " [[ 0.51466717  0.79063786]\n",
      " [-1.00615113 -0.74902534]\n",
      " [ 1.38635571  1.16515053]\n",
      " [-0.89487175 -1.20676305]]\n",
      "X^T * X:\n",
      " [[4.00000000e+00 0.00000000e+00 2.22044605e-16]\n",
      " [0.00000000e+00 4.00000000e+00 3.85575929e+00]\n",
      " [2.22044605e-16 3.85575929e+00 4.00000000e+00]]\n"
     ]
    }
   ],
   "source": [
    "athlets = np. array([[151, 83], [69, 46], [198, 92], [75,35]])\n",
    "mean_althlets = np.mean(athlets, axis=0)\n",
    "standard_deviation_althlets = np.std(athlets, axis=0).tolist()\n",
    "standard_deviation = np.std(athlets, axis=0)\n",
    "print(\"Mean athlets %d\" % mean_althlets[0].item())\n",
    "print(\"Standard deviation athlets %d\" % standard_deviation_althlets[0])\n",
    "print(\"Mean events %d\" % mean_althlets[1].item())\n",
    "print(\"Standard deviation events %d\" % standard_deviation_althlets[1])\n",
    "\n",
    "# We standardize the values of the observations in the two columns()/for the two variables\n",
    "standardized_data = []\n",
    "for row in athlets:\n",
    "    new_athlets = (row[0] - mean_althlets[0]) / standard_deviation_althlets[0]\n",
    "    new_events = (row[1] - mean_althlets[1]) / standard_deviation_althlets[1]\n",
    "    standardized_data.append([new_athlets, new_events])\n",
    "standardized_data = np.array(standardized_data)\n",
    "print(\"Standardized data, matrix X not prepended with ones:\\n\", standardized_data)\n",
    "\n",
    "# Compute X^T * X, where X needs to be appended with a column of ones\n",
    "ones = np.ones((standardized_data.shape[0], 1))\n",
    "data_to_standardize = np.hstack((ones,standardized_data))\n",
    "matrix_data = data_to_standardize.T @ data_to_standardize       # element for element multiplication: X^T * X\n",
    "print(\"X^T * X:\\n\", matrix_data)\n",
    "\n",
    "#standardized_athlets = np.array([])\n",
    "#for row in athlets:\n",
    "#    new_athlets = np.array((row[0] - mean_althlets[0]) / standard_deviation_althlets[0])\n",
    "#    new_events = np.array((row[1] - mean_althlets[1]) / standard_deviation_althlets[1])\n",
    "#    standardized_athlets.append([new_athlets, new_events])\n",
    "# standardized_athlets = np.concatenate([new_athlets, new_events], axis=0)\n",
    "\n",
    "\n",
    "#for i, item in enumerate(athlets):\n",
    "#    for j, sub_item in enumerate(item):\n",
    "#        new_val = (sub_item - mean_althlets[j]) / standard_deviation_althlets[j]\n",
    "#        athlets[i][j] = new_val\n",
    "#        print(\"Standardarzed value: {:.1f}\".format(new_val))\n",
    "\n",
    "# standardized_athlets = [[(sub_item - mean_althlets[j]) / standard_deviation_althlets[j] for j, sub_item in enumerate(item)] for i, item in enumerate(data_to_standardize)]\n",
    "\n",
    "\n",
    "\n",
    "\n",
    "# matrix_data = np.cov(standardized_athlets, rowvar=False) //computes the covariance matrix\n",
    "\n",
    "\n",
    "# Print the elements of the 2D array (matrix X)\n",
    "#for i in range(matrix_data.shape[0]):\n",
    "#    for j in range(matrix_data.shape[1]):\n",
    "#            print(matrix_data[i][j], end=' ')\n",
    "#    print()\n",
    "\n",
    "\n",
    "#matrix_data = np.matmul(data_to_standardize.T, data_to_standardize)\n",
    "# for i in range(matrix_data.shape[0]):\n",
    "#     for j in range(matrix_data.shape[1]):\n",
    "#         print(matrix_data[i][j], end=' ')\n",
    "#     print()\n",
    "\n",
    "\n"
   ]
  }
 ],
 "metadata": {
  "kernelspec": {
   "display_name": "base",
   "language": "python",
   "name": "python3"
  },
  "language_info": {
   "codemirror_mode": {
    "name": "ipython",
    "version": 3
   },
   "file_extension": ".py",
   "mimetype": "text/x-python",
   "name": "python",
   "nbconvert_exporter": "python",
   "pygments_lexer": "ipython3",
   "version": "3.9.12 (main, Apr  5 2022, 01:53:17) \n[Clang 12.0.0 ]"
  },
  "orig_nbformat": 4,
  "vscode": {
   "interpreter": {
    "hash": "40d3a090f54c6569ab1632332b64b2c03c39dcf918b08424e98f38b5ae0af88f"
   }
  }
 },
 "nbformat": 4,
 "nbformat_minor": 2
}
