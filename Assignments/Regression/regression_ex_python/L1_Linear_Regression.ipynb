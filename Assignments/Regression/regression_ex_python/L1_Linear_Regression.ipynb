{
 "cells": [
  {
   "cell_type": "markdown",
   "metadata": {},
   "source": [
    "Import the usual libraries"
   ]
  },
  {
   "cell_type": "code",
   "execution_count": 45,
   "metadata": {},
   "outputs": [],
   "source": [
    "%matplotlib inline\n",
    "import numpy as np\n",
    "import matplotlib.pyplot as plt"
   ]
  },
  {
   "cell_type": "markdown",
   "metadata": {},
   "source": [
    "We shall work with the dataset found in the file 'murderdata.txt', which is a 20 x 5 data matrix where the columns correspond to\n",
    "\n",
    "Index (not for use in analysis)\n",
    "\n",
    "Number of inhabitants\n",
    "\n",
    "Percent with incomes below $5000\n",
    "\n",
    "Percent unemployed\n",
    "\n",
    "Murders per annum per 1,000,000 inhabitants\n",
    "\n",
    "**Reference:**\n",
    "\n",
    "Helmut Spaeth,\n",
    "Mathematical Algorithms for Linear Regression,\n",
    "Academic Press, 1991,\n",
    "ISBN 0-12-656460-4.\n",
    "\n",
    "D G Kleinbaum and L L Kupper,\n",
    "Applied Regression Analysis and Other Multivariable Methods,\n",
    "Duxbury Press, 1978, page 150.\n",
    "\n",
    "http://people.sc.fsu.edu/~jburkardt/datasets/regression\n",
    "\n",
    "**What to do?**\n",
    "\n",
    "We start by loading the data; today we will study how the number of murders relates to the percentage of unemployment."
   ]
  },
  {
   "cell_type": "code",
   "execution_count": 46,
   "metadata": {},
   "outputs": [
    {
     "name": "stdout",
     "output_type": "stream",
     "text": [
      "[[1.000e+00 5.870e+05 1.650e+01 6.200e+00 1.120e+01]\n",
      " [2.000e+00 6.430e+05 2.050e+01 6.400e+00 1.340e+01]\n",
      " [3.000e+00 6.350e+05 2.630e+01 9.300e+00 4.070e+01]\n",
      " [4.000e+00 6.920e+05 1.650e+01 5.300e+00 5.300e+00]\n",
      " [5.000e+00 1.248e+06 1.920e+01 7.300e+00 2.480e+01]\n",
      " [6.000e+00 6.430e+05 1.650e+01 5.900e+00 1.270e+01]\n",
      " [7.000e+00 1.964e+06 2.020e+01 6.400e+00 2.090e+01]\n",
      " [8.000e+00 1.531e+06 2.130e+01 7.600e+00 3.570e+01]\n",
      " [9.000e+00 7.130e+05 1.720e+01 4.900e+00 8.700e+00]\n",
      " [1.000e+01 7.490e+05 1.430e+01 6.400e+00 9.600e+00]\n",
      " [1.100e+01 7.895e+06 1.810e+01 6.000e+00 1.450e+01]\n",
      " [1.200e+01 7.620e+05 2.310e+01 7.400e+00 2.690e+01]\n",
      " [1.300e+01 2.793e+06 1.910e+01 5.800e+00 1.570e+01]\n",
      " [1.400e+01 7.410e+05 2.470e+01 8.600e+00 3.620e+01]\n",
      " [1.500e+01 6.250e+05 1.860e+01 6.500e+00 1.810e+01]\n",
      " [1.600e+01 8.540e+05 2.490e+01 8.300e+00 2.890e+01]\n",
      " [1.700e+01 7.160e+05 1.790e+01 6.700e+00 1.490e+01]\n",
      " [1.800e+01 9.210e+05 2.240e+01 8.600e+00 2.580e+01]\n",
      " [1.900e+01 5.950e+05 2.020e+01 8.400e+00 2.170e+01]\n",
      " [2.000e+01 3.353e+06 1.690e+01 6.700e+00 2.570e+01]]\n"
     ]
    }
   ],
   "source": [
    "data = np.loadtxt('murderdata.txt')\n",
    "print(data)\n",
    "N, d = data.shape\n",
    "\n",
    "unemployment = data[:,3]\n",
    "murders = data[:,4]"
   ]
  },
  {
   "cell_type": "markdown",
   "metadata": {},
   "source": [
    "Let's start out by looking at our data"
   ]
  },
  {
   "cell_type": "code",
   "execution_count": 47,
   "metadata": {},
   "outputs": [
    {
     "data": {
      "text/plain": [
       "(-10.0, 50.0)"
      ]
     },
     "execution_count": 47,
     "metadata": {},
     "output_type": "execute_result"
    },
    {
     "data": {
      "image/png": "[encoded data removed]",
      "text/plain": [
       "<Figure size 432x288 with 1 Axes>"
      ]
     },
     "metadata": {
      "needs_background": "light"
     },
     "output_type": "display_data"
    }
   ],
   "source": [
    "plt.scatter(unemployment, murders)\n",
    "plt.xlabel('Percentage of unemployment')\n",
    "plt.ylabel('Murders per annum per 1,000,000 inhabitants')\n",
    "plt.xlim([3,11])\n",
    "plt.ylim([-10,50])"
   ]
  },
  {
   "cell_type": "code",
   "execution_count": 56,
   "metadata": {},
   "outputs": [],
   "source": [
    "def linreg_univar_analytic(x,y):\n",
    "    \"\"\" \n",
    "    Computes an optimal solution for linear regression (1D case)\n",
    "    \n",
    "    Parameters\n",
    "    ----------\n",
    "    x : A numpy array containing the input variables\n",
    "    t : A numpy array containing the output variables\n",
    "    \n",
    "    \"\"\"\n",
    "    \n",
    "    # compute w_0 and w_1 using np.dot and np.mean \n",
    "    \n",
    "    \n",
    "    w1 = ((np.dot(unemployment, murders)/20) - np.mean(unemployment) * np.mean(murders)) / ((unemployment**2) - (np.mean(unemployment)**2))\n",
    "    \n",
    "    #vector = np.vectorize(np.int_)\n",
    "    #y1 = np.array(w1)\n",
    "    #x1 = np.array(list(map(np.int_, y1)))\n",
    "    \n",
    "    w0 = np.mean(murders) - w1 * np.mean(unemployment)\n",
    "    #vector = np.vectorize(np.int_)\n",
    "    #y0 = np.array(w0)\n",
    "    #x0 = np.array(list(map(np.int_, y0)))\n",
    "    \n",
    "    return w0, w1"
   ]
  },
  {
   "cell_type": "code",
   "execution_count": 57,
   "metadata": {},
   "outputs": [
    {
     "name": "stdout",
     "output_type": "stream",
     "text": [
      "(array([27.60975169, 30.09638118, 18.79992642, 23.96744963,  7.48949772,\n",
      "       25.68609422, 30.09638118, 13.53866038, 23.391903  , 30.09638118,\n",
      "       26.18948754, 10.37413429, 25.271971  , 17.94246045, 32.19914617,\n",
      "       17.30186757, 41.78054132, 17.94246045, 17.54480515, 41.78054132]), array([-1.01510479, -1.37366708,  0.25523772, -0.48989901,  1.8861575 ,\n",
      "       -0.73772087, -1.37366708,  1.0138918 , -0.40690743, -1.37366708,\n",
      "       -0.81030823,  1.47020414, -0.67800591,  0.37888097, -1.6768776 ,\n",
      "        0.47125197, -3.05847748,  0.37888097,  0.43622132, -3.05847748]))\n"
     ]
    }
   ],
   "source": [
    "w0, w1 = linreg_univar_analytic(unemployment, murders)\n",
    "print((w0,w1))"
   ]
  },
  {
   "cell_type": "code",
   "execution_count": 30,
   "metadata": {},
   "outputs": [
    {
     "ename": "ValueError",
     "evalue": "operands could not be broadcast together with shapes (20,) (100,) ",
     "output_type": "error",
     "traceback": [
      "\u001b[0;31m---------------------------------------------------------------------------\u001b[0m",
      "\u001b[0;31mValueError\u001b[0m                                Traceback (most recent call last)",
      "Input \u001b[0;32mIn [30]\u001b[0m, in \u001b[0;36m<cell line: 3>\u001b[0;34m()\u001b[0m\n\u001b[1;32m      1\u001b[0m plt\u001b[38;5;241m.\u001b[39mscatter(unemployment, murders)\n\u001b[1;32m      2\u001b[0m xplot \u001b[38;5;241m=\u001b[39m np\u001b[38;5;241m.\u001b[39mlinspace(\u001b[38;5;241m4\u001b[39m,\u001b[38;5;241m10\u001b[39m,\u001b[38;5;241m100\u001b[39m)\n\u001b[0;32m----> 3\u001b[0m yplot \u001b[38;5;241m=\u001b[39m w0 \u001b[38;5;241m+\u001b[39m \u001b[43mw1\u001b[49m\u001b[38;5;241;43m*\u001b[39;49m\u001b[43mxplot\u001b[49m\n\u001b[1;32m      4\u001b[0m plt\u001b[38;5;241m.\u001b[39mplot(xplot, yplot, \u001b[38;5;124m'\u001b[39m\u001b[38;5;124mr\u001b[39m\u001b[38;5;124m'\u001b[39m)\n\u001b[1;32m      5\u001b[0m plt\u001b[38;5;241m.\u001b[39mxlabel(\u001b[38;5;124m'\u001b[39m\u001b[38;5;124mPercentage of unemployment\u001b[39m\u001b[38;5;124m'\u001b[39m)\n",
      "\u001b[0;31mValueError\u001b[0m: operands could not be broadcast together with shapes (20,) (100,) "
     ]
    },
    {
     "data": {
      "image/png": "[encoded data removed]",
      "text/plain": [
       "<Figure size 432x288 with 1 Axes>"
      ]
     },
     "metadata": {
      "needs_background": "light"
     },
     "output_type": "display_data"
    }
   ],
   "source": [
    "plt.scatter(unemployment, murders)\n",
    "xplot = np.linspace(4,10,100)\n",
    "yplot = w0 + w1*xplot\n",
    "plt.plot(xplot, yplot, 'r')\n",
    "plt.xlabel('Percentage of unemployment')\n",
    "plt.ylabel('Murders per annum per 1,000,000 inhabitants')\n",
    "plt.xlim([3,11])\n",
    "plt.ylim([-10,50])"
   ]
  }
 ],
 "metadata": {
  "anaconda-cloud": {},
  "kernelspec": {
   "display_name": "Python 3 (ipykernel)",
   "language": "python",
   "name": "python3"
  },
  "language_info": {
   "codemirror_mode": {
    "name": "ipython",
    "version": 3
   },
   "file_extension": ".py",
   "mimetype": "text/x-python",
   "name": "python",
   "nbconvert_exporter": "python",
   "pygments_lexer": "ipython3",
   "version": "3.9.12"
  }
 },
 "nbformat": 4,
 "nbformat_minor": 1
}
