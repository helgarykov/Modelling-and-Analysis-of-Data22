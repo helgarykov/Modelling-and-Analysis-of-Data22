{
 "cells": [
  {
   "cell_type": "code",
   "execution_count": 1,
   "metadata": {},
   "outputs": [],
   "source": [
    "import pandas as pd # for data file reading\n",
    "import numpy as np\n",
    "from sklearn.model_selection import train_test_split\n",
    "import matplotlib.pyplot as plt\n",
    "from sklearn.preprocessing import PolynomialFeatures"
   ]
  },
  {
   "cell_type": "code",
   "execution_count": 2,
   "metadata": {},
   "outputs": [
    {
     "name": "stdout",
     "output_type": "stream",
     "text": [
      "Mean athlets 123\n",
      "Standard deviation athlets 53\n",
      "Mean events 64\n",
      "Standard deviation events 24\n",
      "Standardized data, matrix X not prepended with ones:\n",
      " [[ 0.51466717  0.79063786]\n",
      " [-1.00615113 -0.74902534]\n",
      " [ 1.38635571  1.16515053]\n",
      " [-0.89487175 -1.20676305]]\n",
      "X^T * X:\n",
      " [[4.00000000e+00 0.00000000e+00 2.22044605e-16]\n",
      " [0.00000000e+00 4.00000000e+00 3.85575929e+00]\n",
      " [2.22044605e-16 3.85575929e+00 4.00000000e+00]]\n"
     ]
    }
   ],
   "source": [
    "athlets = np. array([[151, 83], [69, 46], [198, 92], [75,35]])\n",
    "mean_althlets = np.mean(athlets, axis=0)\n",
    "standard_deviation_althlets = np.std(athlets, axis=0).tolist()\n",
    "standard_deviation = np.std(athlets, axis=0)\n",
    "print(\"Mean athlets %d\" % mean_althlets[0].item())\n",
    "print(\"Standard deviation athlets %d\" % standard_deviation_althlets[0])\n",
    "print(\"Mean events %d\" % mean_althlets[1].item())\n",
    "print(\"Standard deviation events %d\" % standard_deviation_althlets[1])\n",
    "\n",
    "# We standardize the values of the observations in the two columns()/for the two variables\n",
    "standardized_data = []\n",
    "for row in athlets:\n",
    "    new_athlets = (row[0] - mean_althlets[0]) / standard_deviation_althlets[0]\n",
    "    new_events = (row[1] - mean_althlets[1]) / standard_deviation_althlets[1]\n",
    "    standardized_data.append([new_athlets, new_events])\n",
    "standardized_data = np.array(standardized_data)\n",
    "print(\"Standardized data, matrix X not prepended with ones:\\n\", standardized_data)\n",
    "\n",
    "# Compute X^T * X, where X needs to be appended with a column of ones\n",
    "ones = np.ones((standardized_data.shape[0], 1))\n",
    "data_to_standardize = np.hstack((ones,standardized_data))\n",
    "matrix_data = data_to_standardize.T @ data_to_standardize       # element for element multiplication: X^T * X\n",
    "print(\"X^T * X:\\n\", matrix_data)"
   ]
  },
  {
   "cell_type": "code",
   "execution_count": 7,
   "metadata": {},
   "outputs": [
    {
     "name": "stdout",
     "output_type": "stream",
     "text": [
      "[[ 400. -280.]\n",
      " [-280.  280.]]\n"
     ]
    }
   ],
   "source": [
    "A = [80, 60, 50, 40, 20, 50]\n",
    "B= [40, 80, 70, 70, 90, 70]\n",
    "\n",
    "cov_matrix = np.cov(A,B)\n",
    "print(cov_matrix)"
   ]
  },
  {
   "cell_type": "code",
   "execution_count": 42,
   "metadata": {},
   "outputs": [
    {
     "name": "stdout",
     "output_type": "stream",
     "text": [
      "-0.7858751946471527\n",
      "-0.45580761289534855\n",
      "-1.2515387669959646\n",
      "-0.5256462821383051\n",
      "Result:  0.9814538950336537\n"
     ]
    }
   ],
   "source": [
    "log_0_36 = np.log2(0.58)\n",
    "print(log_0_36)\n",
    "x= log_0_36 * 0.58\n",
    "print(x) \n",
    "\n",
    "log_0_63 = np.log2(0.42)\n",
    "print(log_0_63)\n",
    "y = log_0_63 * 0.42\n",
    "print(y)\n",
    "\n",
    "result = -(x+y)\n",
    "print(\"Result: \", result)"
   ]
  },
  {
   "cell_type": "code",
   "execution_count": 15,
   "metadata": {},
   "outputs": [
    {
     "name": "stdout",
     "output_type": "stream",
     "text": [
      "0.9505\n"
     ]
    }
   ],
   "source": [
    "check = ((1/12) * 1) + ((11/12) * 0.946) \n",
    "print(check)"
   ]
  }
 ],
 "metadata": {
  "kernelspec": {
   "display_name": "base",
   "language": "python",
   "name": "python3"
  },
  "language_info": {
   "codemirror_mode": {
    "name": "ipython",
    "version": 3
   },
   "file_extension": ".py",
   "mimetype": "text/x-python",
   "name": "python",
   "nbconvert_exporter": "python",
   "pygments_lexer": "ipython3",
   "version": "3.9.12"
  },
  "orig_nbformat": 4,
  "vscode": {
   "interpreter": {
    "hash": "40d3a090f54c6569ab1632332b64b2c03c39dcf918b08424e98f38b5ae0af88f"
   }
  }
 },
 "nbformat": 4,
 "nbformat_minor": 2
}
