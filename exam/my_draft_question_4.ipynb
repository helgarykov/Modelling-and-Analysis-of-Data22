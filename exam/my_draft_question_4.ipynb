{
 "cells": [
  {
   "cell_type": "code",
   "execution_count": 336,
   "metadata": {},
   "outputs": [],
   "source": [
    "import numpy as np\n",
    "import random\n",
    "import math\n",
    "import pandas as pd\n",
    "import matplotlib.pyplot as plt"
   ]
  },
  {
   "cell_type": "code",
   "execution_count": 337,
   "metadata": {},
   "outputs": [],
   "source": [
    "def data_reading(filename):\n",
    "    train_data = pd.read_csv (filename, delimiter=\",\")\n",
    "    test_data = pd.read_csv (\"heart_simplified_test.csv\", delimiter=\",\")\n",
    "    data_numerical = train_data[['Age', 'RestingBP', 'Cholesterol', 'MaxHR']].values\n",
    "    data_combined = train_data[['Age', 'RestingBP', 'Cholesterol', 'MaxHR', 'Sex', 'ChestPainType']].values\n",
    "    data_labels = train_data[['HeartDisease']].values\n",
    "\n",
    "\n",
    "    print(\"Number of samples: %i\" % data_numerical.shape[0])\n",
    "    print(\"Number of numerical features: %i\" % data_numerical.shape[1])\n",
    "    print(\"Number of combined features: %i\" % data_combined.shape[1])\n",
    "\n",
    "    return data_numerical, data_combined, data_labels"
   ]
  },
  {
   "cell_type": "code",
   "execution_count": 338,
   "metadata": {},
   "outputs": [
    {
     "name": "stdout",
     "output_type": "stream",
     "text": [
      "Number of samples: 500\n",
      "Number of numerical features: 4\n",
      "Number of combined features: 6\n",
      "Number of samples: 100\n",
      "Number of numerical features: 4\n",
      "Number of combined features: 6\n",
      "Number of samples: 100\n",
      "Number of numerical features: 4\n",
      "Number of combined features: 6\n"
     ]
    }
   ],
   "source": [
    "train_data_numerical, train_data_combined, train_data_labels = data_reading(\"heart_simplified_train.csv\")\n",
    "validation_data_numerical, validation_data_combined, validation_data_labels = data_reading(\"heart_simplified_validation.csv\")\n",
    "test_data_numerical, test_data_combined, test_data_labels = data_reading(\"heart_simplified_test.csv\")"
   ]
  },
  {
   "cell_type": "code",
   "execution_count": 339,
   "metadata": {},
   "outputs": [],
   "source": [
    "class NearestNeighborRegressor:\n",
    "    \n",
    "    def __init__(self, n_neighbors = 3, weights = [1,1], distance_metric = 'numerical'):\n",
    "        \"\"\" \n",
    "       Initializes the model.\n",
    "\n",
    "        Parameters\n",
    "        ----------\n",
    "        n_neighbors : The number of nearest neigbhors (default 1)\n",
    "        weights : Weighting factors for numerical and categorical features\n",
    "        distance_metric : The distance metric to use for predictions\n",
    "        \"\"\"\n",
    "        self.n_neighbors = n_neighbors\n",
    "        self.weights = weights\n",
    "        self.distance_metric = distance_metric\n",
    "\n",
    "    \n",
    "    def fit(self, X, t, type):\n",
    "        \"\"\"\n",
    "        Fits the nearest neighbor regression model.\n",
    "        Parameters\n",
    "        ----------\n",
    "        X : Array of shape [n_samples, n_features]\n",
    "        t : Array of labels [n_samples]\n",
    "        type: feature types'numerical' or 'combined' \n",
    "     \n",
    "        \"\"\" \n",
    "       \n",
    "        # Reshape both arrays to make sure that we deal with \n",
    "        # N-dimensional Numpy arrays\n",
    "        self.X = np.array(X).reshape((len(X), -1))\n",
    "        self.t = np.array(t).reshape((-1, 1))\n",
    "\n",
    "        # Create lists of strings for numerical and categorical features\n",
    "        self.features = type\n",
    "        self.numerical_features = [i for i in range(X.shape[1]) if self.features[i] == \"numerical\"]\n",
    "        self.categorical_features = [i for i in range(X.shape[1]) if self.features[i] != \"numerical\"]\n",
    "    \n",
    "\n",
    "    def predict(self, X):\n",
    "        \"\"\"\n",
    "        Computes predictions for a new set of points.\n",
    "\n",
    "        Parameters\n",
    "        ----------\n",
    "        X : array-like of shape [n_samples, n_features]\n",
    "\n",
    "        Returns\n",
    "        -------\n",
    "        predictions : array-like of length n_samples\n",
    "        \"\"\" \n",
    "        predictions = []\n",
    "        for x in X:\n",
    "            distances = []\n",
    "            for i, point in enumerate(self.X):\n",
    "                if self.distance_metric == 'mixed_distance':\n",
    "                    distance = self.__mixedDistance(x, point, self.weights[0], self.weights[1])\n",
    "                else:\n",
    "                    distance = self.__numericalDistance(x, point)\n",
    "                distances.append((distance, i))\n",
    "            # sort the distances in ascending order\n",
    "            distances = sorted(distances, key=lambda x: x[0])\n",
    "            # make list of indices corresponding to the closest self.n_neighbors data points. \n",
    "            label_indices = [x[1] for x in distances[:self.n_neighbors]]\n",
    "            #This code creates a list called \"labels\" which contains the \n",
    "            # elements from the list \"self.t\" at the indexes specified in the list \"label_indx\".\n",
    "            #It is likely that \"self.t\" is a list of labels for the data points in the dataset,\n",
    "            #  and \"label_indx\" is a list of indices corresponding to the closest \"self.n_neighbors\"\n",
    "            #  data points. Therefore, the code is extracting the labels of the closest data points \n",
    "            # and creating a list of those labels. This is probably used to classify the given point\n",
    "            #  based on the majority label among its nearest neighbours.\n",
    "            \n",
    "            labels = [self.t[i] for i in label_indices]\n",
    "            predictions.append(np.mean(labels))\n",
    "        return predictions\n",
    "        \n",
    "\n",
    "\n",
    "    def __numericalDistance(self, p, q):\n",
    "        \"\"\"\n",
    "        Computes the Euclidean distance between \n",
    "        two points.\n",
    "        \"\"\"\n",
    "        distance = math.sqrt(np.sum((q - p) ** 2))\n",
    "        return distance\n",
    "\n",
    "\n",
    "    \n",
    "    def __mixedDistance(self, p, q, numerical_weight, categorical_weight):\n",
    "        \"\"\"\n",
    "        Computes the distance between \n",
    "        two points via the pre-defined matrix.\n",
    "        \"\"\"\n",
    "        distance = 0\n",
    "        # distance for numerical features\n",
    "        for value in self.numerical_features:       \n",
    "            if isinstance(p[value], (int, float)):\n",
    "                distance += numerical_weight * (p[value] - q[value]) ** 2   \n",
    "        # distance for categorical features\n",
    "        for value in self.categorical_features:     \n",
    "            if p[value] != q[value]:\n",
    "                distance += categorical_weight\n",
    "        return distance\n",
    "    \n",
    "    \n",
    "    def rmse(self, t, tp):\n",
    "        \"\"\" Computes the RMSE for two\n",
    "        input arrays 't' and 'tp'.\n",
    "        \"\"\"\n",
    "        n = len(t)\n",
    "        error = (t - tp)**2\n",
    "        rmse = math.sqrt(np.sum(error)/n)\n",
    "        return rmse\n",
    "\n",
    "\n",
    "    def accuracy(self, t, tp):\n",
    "        \"\"\" Computes the RMSE for two\n",
    "        input arrays 't' and 'tp'.\n",
    "        \"\"\"   \n",
    "        n_correct = 0\n",
    "        for i in range(len(t)):\n",
    "            if np.round(t[i]) == np.round(tp[i]):\n",
    "                n_correct += 1\n",
    "        accuracy = n_correct/len(t)\n",
    "        return accuracy\n"
   ]
  },
  {
   "cell_type": "code",
   "execution_count": 340,
   "metadata": {},
   "outputs": [
    {
     "data": {
      "image/png": "[encoded data removed]",
      "text/plain": [
       "<Figure size 432x288 with 1 Axes>"
      ]
     },
     "metadata": {
      "needs_background": "light"
     },
     "output_type": "display_data"
    },
    {
     "name": "stdout",
     "output_type": "stream",
     "text": [
      "Optimal neighbours: 6\n",
      "RMSE for optimal neighbours: 5.099020\n",
      "Accuracy for optimal neighbours: 0.750000\n"
     ]
    }
   ],
   "source": [
    "\n",
    "kNN = NearestNeighborRegressor(distance_metric = 'numerical')\n",
    "type = ['numerical'] * 4\n",
    "# fit the model using the training data\n",
    "kNN.fit(train_data_numerical, train_data_labels, type)  \n",
    "\n",
    "rmses = []\n",
    "accuracies = []\n",
    "for n_neighbours in range(1, 11):\n",
    "    kNN.n_neighbors = n_neighbours\n",
    "    predictions = kNN.predict(test_data_numerical)\n",
    "    rmse = kNN.rmse(test_data_labels, predictions)\n",
    "    rmses.append(rmse)\n",
    "    accuracy = kNN.accuracy(test_data_labels, predictions)\n",
    "    accuracies.append(accuracy)\n",
    "\n",
    "plt.scatter(range(1, 11), accuracies)\n",
    "plt.xlabel(\"Neighbours\")\n",
    "plt.ylabel(\"Accuracy\")\n",
    "plt.show()\n",
    "\n",
    "# Find the optimal number of neighbours and shift one to \n",
    "# the right to fit into range(1, 11)\n",
    "optimal_neighbours = np.argmax(accuracies) + 1\n",
    "print(\"Optimal neighbours: %d\" % optimal_neighbours)\n",
    "print(\"RMSE for optimal neighbours: %f\" % rmses[optimal_neighbours - 1])\n",
    "print(\"Accuracy for optimal neighbours: %f\" % accuracies[optimal_neighbours - 1])"
   ]
  },
  {
   "cell_type": "code",
   "execution_count": 341,
   "metadata": {},
   "outputs": [
    {
     "name": "stdout",
     "output_type": "stream",
     "text": [
      "w_cat_factor: 0.01  RMSE: 5.057667446560717  Accuracy: 0.77\n",
      "w_cat_factor: 0.025  RMSE: 5.1536394906900505  Accuracy: 0.77\n",
      "w_cat_factor: 0.05  RMSE: 5.203844732503075  Accuracy: 0.75\n",
      "w_cat_factor: 0.1  RMSE: 5.238320341483519  Accuracy: 0.74\n"
     ]
    }
   ],
   "source": [
    "# Initialize weights for categorical features to balance the combined distance\n",
    "w_cat_factors = [0.01, 0.025, 0.05, 0.1]\n",
    "type = ['numerical'] * 4 + ['categorical'] * 2\n",
    "k = 5\n",
    "\n",
    "for w in w_cat_factors:\n",
    "    # Initialize kNN model with weight = 1 for numerical categories and \n",
    "    # w_cat_factors for categorical categories and 'mixed_distance' for\n",
    "    # computing combined distances\n",
    "    kNN = NearestNeighborRegressor(k,  weights = [1, w], distance_metric = 'mixed_distance')\n",
    "    kNN.fit(train_data_combined, train_data_labels, type)\n",
    "    predictions = kNN.predict(test_data_combined)\n",
    "    rmse = kNN.rmse(test_data_labels, predictions)\n",
    "    accuracy = kNN.accuracy(test_data_labels, predictions)\n",
    "    print(\"w_cat_factor:\", w, \" RMSE:\", rmse, \" Accuracy:\", accuracy)"
   ]
  }
 ],
 "metadata": {
  "kernelspec": {
   "display_name": "base",
   "language": "python",
   "name": "python3"
  },
  "language_info": {
   "codemirror_mode": {
    "name": "ipython",
    "version": 3
   },
   "file_extension": ".py",
   "mimetype": "text/x-python",
   "name": "python",
   "nbconvert_exporter": "python",
   "pygments_lexer": "ipython3",
   "version": "3.9.12"
  },
  "orig_nbformat": 4,
  "vscode": {
   "interpreter": {
    "hash": "40d3a090f54c6569ab1632332b64b2c03c39dcf918b08424e98f38b5ae0af88f"
   }
  }
 },
 "nbformat": 4,
 "nbformat_minor": 2
}
