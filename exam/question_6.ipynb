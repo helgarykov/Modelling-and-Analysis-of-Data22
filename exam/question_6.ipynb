{
 "cells": [
  {
   "cell_type": "code",
   "execution_count": 89,
   "metadata": {},
   "outputs": [],
   "source": [
    "import numpy as np\n",
    "import pandas as pd\n",
    "import matplotlib.pyplot as plt\n",
    "import math\n",
    "import random\n",
    "import matplotlib.cm as cm\n",
    "import numpy.matlib\n",
    "from sklearn.metrics import average_precision_score\n",
    "from matplotlib.colors import ListedColormap\n",
    "from sklearn.neighbors import KNeighborsClassifier\n",
    "from sklearn.ensemble import RandomForestClassifier"
   ]
  },
  {
   "cell_type": "code",
   "execution_count": 90,
   "metadata": {},
   "outputs": [],
   "source": [
    "# Read the data\n",
    "training_data = pd.read_csv(\"heart_simplified_train.csv\")\n",
    "validation_data = pd.read_csv(\"heart_simplified_validation.csv\")\n",
    "test_data = pd.read_csv(\"heart_simplified_test.csv\")\n",
    "\n",
    "# Convert categorical features to numerical\n",
    "training_data = pd.get_dummies(training_data, columns=[\"Sex\"])\n",
    "training_data = pd.get_dummies(training_data, columns=[\"ChestPainType\"])\n",
    "validation_data = pd.get_dummies(validation_data, columns=[\"Sex\"])\n",
    "validation_data = pd.get_dummies(validation_data, columns=[\"ChestPainType\"])\n",
    "test_data = pd.get_dummies(test_data, columns=[\"Sex\"])\n",
    "test_data = pd.get_dummies(test_data, columns=[\"ChestPainType\"])\n",
    "\n",
    "# Extract the features and labels\n",
    "training_features = training_data.drop(columns=[\"HeartDisease\"])\n",
    "training_labels = training_data[\"HeartDisease\"]\n",
    "validation_features = validation_data.drop(columns=[\"HeartDisease\"])\n",
    "validation_labels = validation_data[\"HeartDisease\"]\n",
    "test_features = test_data.drop(columns=[\"HeartDisease\"])\n",
    "test_labels = test_data[\"HeartDisease\"]"
   ]
  },
  {
   "cell_type": "code",
   "execution_count": 91,
   "metadata": {},
   "outputs": [
    {
     "name": "stdout",
     "output_type": "stream",
     "text": [
      "Test accuracy:  0.62\n"
     ]
    }
   ],
   "source": [
    "def randomForests(trainingFeatures, trainingLabels, criterion = \"gini\", max_features = \"auto\", max_depth = None):\n",
    "    predictor = RandomForestClassifier(n_estimators=100, criterion=criterion, max_features=max_features, max_depth=max_depth)\n",
    "    predictor.fit(trainingFeatures, trainingLabels)\n",
    "    return predictor\n",
    "\n",
    "def accuracy(predictor, validation_features, validation_labels):\n",
    "    correct = 0\n",
    "    count = 0\n",
    "    probabilities = predictor.predict_proba(validation_features)\n",
    "    chance_of_correct = []\n",
    "    correct_map = []\n",
    "    for idx, valid_label in enumerate(predictor.predict(validation_features)):\n",
    "        count = count + 1\n",
    "        chance_of_correct.append(probabilities[idx,valid_label])\n",
    "        if(valid_label == validation_labels[idx]):\n",
    "            correct = correct +1\n",
    "            correct_map.append(1)\n",
    "            continue\n",
    "        correct_map.append(0)\n",
    "    return correct / count, correct, np.mean(chance_of_correct)\n",
    "\n",
    "predictor = randomForests(training_features, training_labels)\n",
    "precision, correct, probability_mean = accuracy(predictor, validation_features, validation_labels)\n",
    "print(\"Test accuracy: \", precision)"
   ]
  },
  {
   "cell_type": "code",
   "execution_count": 92,
   "metadata": {},
   "outputs": [
    {
     "name": "stdout",
     "output_type": "stream",
     "text": [
      "criterion = gini; max_depth = 2; max_features = sqrt; accuracy on validation data = 0.65; number of correctly classified validation samples = 65;\n",
      "criterion = gini; max_depth = 5; max_features = sqrt; accuracy on validation data = 0.7; number of correctly classified validation samples = 70;\n",
      "criterion = entropy; max_depth = 5; max_features = sqrt; accuracy on validation data = 0.69; number of correctly classified validation samples = 69;\n",
      "criterion = entropy; max_depth = 10; max_features = sqrt; accuracy on validation data = 0.68; number of correctly classified validation samples = 68;\n",
      "Optimal parameters: ('entropy', 'sqrt', 10, 68, 0.7200435155047475)\n"
     ]
    }
   ],
   "source": [
    "def optimalParams(training_features, training_labels, validation_features, validation_labels):\n",
    "    criterions = [\"gini\", \"entropy\"]\n",
    "    max_features = [\"sqrt\", \"log2\"]\n",
    "    max_depths = [2, 5, 7, 10, 15]\n",
    "    best_metric = (\"\", \"\", 0, 0, 0)\n",
    "\n",
    "    for criterion in criterions:\n",
    "        for max_feature in max_features:\n",
    "            for max_depth in max_depths:\n",
    "                predictor = randomForests(training_features, training_labels, criterion, max_feature, max_depth)\n",
    "                precision, correct, probability_mean = accuracy(predictor, validation_features, validation_labels)\n",
    "\n",
    "                best_criterion, best_max_feature, best_max_depth, best_correct, best_mean = best_metric\n",
    "                \n",
    "                if (probability_mean < best_mean):\n",
    "                    continue\n",
    "                if (probability_mean == best_mean and correct < best_correct):\n",
    "                    continue\n",
    "                best_metric = (criterion, max_feature, max_depth, correct, probability_mean)\n",
    "\n",
    "                # d part:\n",
    "                print(f\"criterion = {criterion}; max_depth = {max_depth}; max_features = {max_feature}; accuracy on validation data = {precision}; number of correctly classified validation samples = {correct};\" )\n",
    "    return best_metric\n",
    "\n",
    "optimal_params = optimalParams(training_features, training_labels, validation_features, validation_labels)\n",
    "print(\"Optimal parameters:\", optimal_params)"
   ]
  }
 ],
 "metadata": {
  "kernelspec": {
   "display_name": "base",
   "language": "python",
   "name": "python3"
  },
  "language_info": {
   "codemirror_mode": {
    "name": "ipython",
    "version": 3
   },
   "file_extension": ".py",
   "mimetype": "text/x-python",
   "name": "python",
   "nbconvert_exporter": "python",
   "pygments_lexer": "ipython3",
   "version": "3.9.12"
  },
  "orig_nbformat": 4,
  "vscode": {
   "interpreter": {
    "hash": "40d3a090f54c6569ab1632332b64b2c03c39dcf918b08424e98f38b5ae0af88f"
   }
  }
 },
 "nbformat": 4,
 "nbformat_minor": 2
}
